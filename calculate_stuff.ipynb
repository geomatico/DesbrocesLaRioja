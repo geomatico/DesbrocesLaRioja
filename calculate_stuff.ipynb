{
 "cells": [
  {
   "cell_type": "code",
   "execution_count": 1,
   "metadata": {
    "collapsed": true,
    "ExecuteTime": {
     "start_time": "2023-04-19T15:25:00.517982Z",
     "end_time": "2023-04-19T15:25:00.674019Z"
    }
   },
   "outputs": [],
   "source": [
    "import numpy as np\n",
    "from sentinelsat import SentinelAPI\n",
    "\n",
    "api = SentinelAPI('michogar', 'tvsptqzKuUULb87L')"
   ]
  },
  {
   "cell_type": "markdown",
   "source": [
    "## POLYGON used to query the API\n",
    "<geographic type> = POLYGON((P1Lon P1Lat, P2Lon P2Lat, ..., PnLon PnLat))\n",
    "where P1Lon and P1Lat are the Longitude and Latitude coordinates of the first point of the polygon in decimal degrees (DDD) format (e.g. 2.17403, 41.40338) and so on."
   ],
   "metadata": {
    "collapsed": false
   }
  },
  {
   "cell_type": "code",
   "execution_count": 2,
   "outputs": [
    {
     "name": "stdout",
     "output_type": "stream",
     "text": [
      "title                       S2B_MSIL1C_20230406T110619_N0509_R137_T30TVK_2...\n",
      "link                        https://apihub.copernicus.eu/apihub/odata/v1/P...\n",
      "link_alternative            https://apihub.copernicus.eu/apihub/odata/v1/P...\n",
      "link_icon                   https://apihub.copernicus.eu/apihub/odata/v1/P...\n",
      "summary                     Date: 2023-04-06T11:06:19.024Z, Instrument: MS...\n",
      "ondemand                                                                false\n",
      "datatakesensingstart                               2023-04-06 11:06:19.024000\n",
      "generationdate                                            2023-04-06 13:11:56\n",
      "beginposition                                      2023-04-06 11:06:19.024000\n",
      "endposition                                        2023-04-06 11:06:19.024000\n",
      "ingestiondate                                      2023-04-06 15:10:51.961000\n",
      "orbitnumber                                                             31766\n",
      "relativeorbitnumber                                                       137\n",
      "cloudcoverpercentage                                                      0.0\n",
      "sensoroperationalmode                                                INS-NOBS\n",
      "level1cpdiidentifier        S2B_OPER_MSI_L1C_TL_2BPS_20230406T131156_A0317...\n",
      "tileid                                                                  30TVK\n",
      "hv_order_tileid                                                         TK30V\n",
      "format                                                                   SAFE\n",
      "processingbaseline                                                      05.09\n",
      "platformname                                                       Sentinel-2\n",
      "filename                    S2B_MSIL1C_20230406T110619_N0509_R137_T30TVK_2...\n",
      "instrumentname                                      Multi-Spectral Instrument\n",
      "instrumentshortname                                                       MSI\n",
      "size                                                                502.30 MB\n",
      "s2datatakeid                               GS2B_20230406T110619_031766_N05.09\n",
      "producttype                                                           S2MSI1C\n",
      "platformidentifier                                                  2017-013A\n",
      "orbitdirection                                                     DESCENDING\n",
      "platformserialidentifier                                          Sentinel-2B\n",
      "processinglevel                                                      Level-1C\n",
      "datastripidentifier         S2B_OPER_MSI_L1C_DS_2BPS_20230406T131156_S2023...\n",
      "granuleidentifier           S2B_OPER_MSI_L1C_TL_2BPS_20230406T131156_A0317...\n",
      "identifier                  S2B_MSIL1C_20230406T110619_N0509_R137_T30TVK_2...\n",
      "uuid                                     31c11723-39d4-42b8-8015-ac26d6526ae1\n",
      "geometry                    MULTIPOLYGON (((-4.1661377 39.655752572676114,...\n",
      "Name: 31c11723-39d4-42b8-8015-ac26d6526ae1, dtype: object\n"
     ]
    }
   ],
   "source": [
    "from sentinelsat import read_geojson, geojson_to_wkt\n",
    "\n",
    "footprint = geojson_to_wkt(read_geojson('madriz_bbox.geojson'))\n",
    "\n",
    "products = api.query(footprint,\n",
    "                     date=('20230101', '20230417'),\n",
    "                     platformname='Sentinel-2',\n",
    "                     cloudcoverpercentage=0)\n",
    "\n",
    "products_df = api.to_geodataframe(products)\n",
    "products_df.to_file(\"products.gpkg\", layer='footprints', driver=\"GPKG\")\n",
    "\n",
    "image = products_df.iloc[0]\n",
    "print(image)"
   ],
   "metadata": {
    "collapsed": false,
    "ExecuteTime": {
     "start_time": "2023-04-19T15:25:19.242363Z",
     "end_time": "2023-04-19T15:25:20.378177Z"
    }
   }
  },
  {
   "cell_type": "code",
   "execution_count": 3,
   "outputs": [
    {
     "name": "stdout",
     "output_type": "stream",
     "text": [
      "74adb24f-32d3-4d01-a3b1-8f35a6c61b1b\n"
     ]
    }
   ],
   "source": [
    "uuid = products_df.iloc[2]['uuid']\n",
    "print(uuid)\n",
    "#api.download(uuid)"
   ],
   "metadata": {
    "collapsed": false,
    "ExecuteTime": {
     "start_time": "2023-04-19T15:25:33.118087Z",
     "end_time": "2023-04-19T15:25:33.163967Z"
    }
   }
  },
  {
   "cell_type": "markdown",
   "source": [
    "Se descarga un ZIP con los archivos de la imagen. En /S2B_MSIL1C_20230304T105849_N0509_R094_T30TVK_20230304T130129.SAFE/GRANULE/L1C_T30TVK_A031294_20230304T110115/IMG_DATA/ encontramos las imágenes de las diferentes bandas."
   ],
   "metadata": {
    "collapsed": false
   }
  },
  {
   "cell_type": "code",
   "execution_count": 20,
   "outputs": [
    {
     "data": {
      "text/plain": "'S2B_MSIL1C_20230304T105849_N0509_R094_T30TVK_20230304T130129.SAFE/GRANULE/L1C_T30TVK_A031294_20230304T110115/IMG_DATA/T30TVK_20230304T105849_B04.jp2'"
     },
     "execution_count": 20,
     "metadata": {},
     "output_type": "execute_result"
    }
   ],
   "source": [
    "import zipfile\n",
    "\n",
    "zip_ref = zipfile.ZipFile('S2B_MSIL1C_20230304T105849_N0509_R094_T30TVK_20230304T130129.zip', 'r')\n",
    "\n",
    "# extract only the band 04\n",
    "zip_ref.extract('S2B_MSIL1C_20230304T105849_N0509_R094_T30TVK_20230304T130129.SAFE/GRANULE/L1C_T30TVK_A031294_20230304T110115/IMG_DATA/T30TVK_20230304T105849_B04.jp2', path='.')"
   ],
   "metadata": {
    "collapsed": false,
    "ExecuteTime": {
     "start_time": "2023-04-19T15:35:32.037626Z",
     "end_time": "2023-04-19T15:35:32.172705Z"
    }
   }
  },
  {
   "cell_type": "code",
   "execution_count": 22,
   "outputs": [],
   "source": [
    "# convert to tiff\n",
    "import rasterio\n",
    "from rasterio.plot import show\n",
    "\n",
    "image_path = 'S2B_MSIL1C_20230304T105849_N0509_R094_T30TVK_20230304T130129.SAFE/GRANULE/L1C_T30TVK_A031294_20230304T110115/IMG_DATA/T30TVK_20230304T105849_B04.jp2'\n",
    "\n",
    "with rasterio.open(image_path) as src:\n",
    "    show(src)\n",
    "\n"
   ],
   "metadata": {
    "collapsed": false,
    "ExecuteTime": {
     "start_time": "2023-04-19T15:36:00.488596Z",
     "end_time": "2023-04-19T15:36:05.548280Z"
    }
   }
  },
  {
   "cell_type": "code",
   "execution_count": 23,
   "outputs": [
    {
     "name": "stdout",
     "output_type": "stream",
     "text": [
      "POLYGON ((427517.1846463839 4486647.605316726, 425527.9182874906 4485086.489092956, 425951.62168963964 4483573.443601552, 426871.2950655398 4482271.109921751, 428307.7769703879 4483334.92868664, 428373.6373586314 4484483.8759660125, 427219.992733723 4484279.475725212, 427063.8968324858 4485143.186034328, 428056.38573554147 4485708.354297181, 428392.9218197601 4486495.458659051, 427517.1846463839 4486647.605316726))\n"
     ]
    }
   ],
   "source": [
    "# cut the image to the bounding box\n",
    "from rasterio.mask import mask\n",
    "\n",
    "with rasterio.open(image_path) as src:\n",
    "    out_image, out_transform = mask(src, [footprint], crop=True)\n",
    "    out_meta = src.meta\n"
   ],
   "metadata": {
    "collapsed": false,
    "ExecuteTime": {
     "start_time": "2023-04-19T15:36:26.638383Z",
     "end_time": "2023-04-19T15:36:26.656143Z"
    }
   }
  },
  {
   "cell_type": "code",
   "execution_count": 24,
   "outputs": [],
   "source": [
    "import fiona\n",
    "import pyproj\n",
    "from shapely.geometry import shape\n",
    "from shapely.ops import transform\n",
    "\n",
    "wgs84 = pyproj.CRS('EPSG:4326')\n",
    "utm = pyproj.CRS('EPSG:32630')\n",
    "\n",
    "project = pyproj.Transformer.from_crs(wgs84, utm, always_xy=True).transform\n",
    "\n",
    "with fiona.open(\"cutter.geojson\", \"r\") as bbox_geojson:\n",
    "    shapes = [transform(project, shape(feature[\"geometry\"])) for feature in bbox_geojson]\n",
    "\n",
    "print(shapes[0].wkt)"
   ],
   "metadata": {
    "collapsed": false,
    "ExecuteTime": {
     "start_time": "2023-04-19T15:36:29.653570Z",
     "end_time": "2023-04-19T15:36:29.676962Z"
    }
   }
  },
  {
   "cell_type": "code",
   "execution_count": 54,
   "outputs": [
    {
     "name": "stdout",
     "output_type": "stream",
     "text": [
      "Coordinates in EPSG:32630 x: 426705.22062379215 y: 4484314.8008622825\n",
      "Pixel coordinates: col: 118 row: 233 from array: (438, 288)\n",
      "max: 7013, min: 1398, mean: 2167.415613667271, house: 2882\n"
     ]
    }
   ],
   "source": [
    "import rasterio\n",
    "\n",
    "\n",
    "NODATA = 0\n",
    "\n",
    "with rasterio.open(image_path) as src:\n",
    "    mask_image, mask_transform = rasterio.mask.mask(src,\n",
    "                                                      shapes,\n",
    "                                                      crop=True,\n",
    "                                                      all_touched=True,\n",
    "                                                      nodata=NODATA)\n",
    "    out_meta = src.meta\n",
    "\n",
    "    out_meta.update({\"driver\": \"GTiff\",\n",
    "                     \"height\": mask_image.shape[1],\n",
    "                     \"width\": mask_image.shape[2],\n",
    "                     \"transform\": mask_transform,\n",
    "                     \"nodata\": NODATA\n",
    "                     })\n",
    "\n",
    "with rasterio.open(f\"{image_path}.cut.tif\", \"w\", **out_meta) as dest:\n",
    "        dest.write(mask_image)"
   ],
   "metadata": {
    "collapsed": false,
    "ExecuteTime": {
     "start_time": "2023-04-19T15:51:52.042224Z",
     "end_time": "2023-04-19T15:51:52.085791Z"
    }
   }
  },
  {
   "cell_type": "code",
   "execution_count": 52,
   "outputs": [
    {
     "name": "stdout",
     "output_type": "stream",
     "text": [
      "Coordinates in EPSG:32630 x: 426705.22062379215 y: 4484314.8008622825\n",
      "Pixel coordinates: col: 118 row: 233 from array: (438, 288)\n",
      "Value: 2882\n"
     ]
    }
   ],
   "source": [
    "# open the cut image\n",
    "import numpy as np\n",
    "with rasterio.open(f\"{image_path}.cut.tif\") as src:\n",
    "    b4 = src.read(1)\n",
    "    max = np.amax(b4)\n",
    "    min = np.amin(b4[np.nonzero(b4)])\n",
    "    mean = np.mean(b4[np.nonzero(b4)])\n",
    "\n",
    "    print(f\"max: {max}, min: {min}, mean: {mean}\")\n"
   ],
   "metadata": {
    "collapsed": false,
    "ExecuteTime": {
     "start_time": "2023-04-19T15:50:04.385712Z",
     "end_time": "2023-04-19T15:50:04.433615Z"
    }
   }
  },
  {
   "cell_type": "code",
   "execution_count": 19,
   "outputs": [],
   "source": [
    "from rasterio.warp import transform_geom\n",
    "\n",
    "# Open the raster file\n",
    "with rasterio.open(f'{image_path}.cut.tif') as src:\n",
    "    # Convert the point coordinates to the same SRS as the raster file\n",
    "    point_crs = 'EPSG:4326'  # example coordinate reference system\n",
    "    point_coords = (40.50653, -3.86588)  # example point coordinates\n",
    "    point_transformed = transform_geom(point_crs, src.crs, {'type': 'Point', 'coordinates': point_coords})\n",
    "\n",
    "    # Get the transformation matrix from pixel to map coordinates\n",
    "    transform = src.transform\n",
    "\n",
    "    # Invert the transformation matrix to get map to pixel coordinates\n",
    "    inv_transform = ~transform\n",
    "\n",
    "    # Apply the inverted transformation to the point coordinates to get the pixel coordinates\n",
    "    col, row = rasterio.transform.rowcol(inv_transform, point_transformed['coordinates'][0], point_transformed['coordinates'][1])\n",
    "\n",
    "    # Round the pixel coordinates to the nearest integer\n",
    "\n",
    "    sample = (426784.1, 4484202.6)\n",
    "    row = int(round(sample[1]))\n",
    "    col = int(round(sample[0]))\n",
    "\n",
    "    # Extract the value from the raster file at the given row and column indices\n",
    "    value = src.read(1, window=((row, row+1), (col, col+1)))\n",
    "\n",
    "    print(f'Value at point {point_coords} is {value}')\n",
    "\n"
   ],
   "metadata": {
    "collapsed": false,
    "ExecuteTime": {
     "start_time": "2023-04-19T15:34:37.268995Z",
     "end_time": "2023-04-19T15:34:37.309732Z"
    }
   }
  },
  {
   "cell_type": "code",
   "execution_count": null,
   "outputs": [],
   "source": [],
   "metadata": {
    "collapsed": false
   }
  }
 ],
 "metadata": {
  "kernelspec": {
   "display_name": "Python 3",
   "language": "python",
   "name": "python3"
  },
  "language_info": {
   "codemirror_mode": {
    "name": "ipython",
    "version": 2
   },
   "file_extension": ".py",
   "mimetype": "text/x-python",
   "name": "python",
   "nbconvert_exporter": "python",
   "pygments_lexer": "ipython2",
   "version": "2.7.6"
  }
 },
 "nbformat": 4,
 "nbformat_minor": 0
}
