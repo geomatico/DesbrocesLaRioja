{
 "cells": [
  {
   "cell_type": "code",
   "execution_count": null,
   "metadata": {
    "ExecuteTime": {
     "end_time": "2023-04-20T11:04:11.967871Z",
     "start_time": "2023-04-20T11:04:11.807066Z"
    }
   },
   "outputs": [],
   "source": [
    "import numpy as np\n",
    "from sentinelsat import SentinelAPI\n",
    "\n",
    "api = SentinelAPI('', '')"
   ]
  },
  {
   "cell_type": "markdown",
   "metadata": {
    "collapsed": false
   },
   "source": [
    "## POLYGON used to query the API\n",
    "<geographic type> = POLYGON((P1Lon P1Lat, P2Lon P2Lat, ..., PnLon PnLat))\n",
    "where P1Lon and P1Lat are the Longitude and Latitude coordinates of the first point of the polygon in decimal degrees (DDD) format (e.g. 2.17403, 41.40338) and so on."
   ]
  },
  {
   "cell_type": "code",
   "execution_count": null,
   "metadata": {
    "ExecuteTime": {
     "end_time": "2023-04-19T16:52:07.510827Z",
     "start_time": "2023-04-19T16:52:06.777458Z"
    }
   },
   "outputs": [],
   "source": [
    "from sentinelsat import read_geojson, geojson_to_wkt\n",
    "\n",
    "footprint = geojson_to_wkt(read_geojson('madriz_bbox.geojson'))\n",
    "\n",
    "products = api.query(footprint,\n",
    "                     date=('20230101', '20230417'),\n",
    "                     platformname='Sentinel-2',\n",
    "                     cloudcoverpercentage=0)\n",
    "\n",
    "products_df = api.to_geodataframe(products)\n",
    "products_df.to_file(\"products.gpkg\", layer='footprints', driver=\"GPKG\")\n",
    "\n",
    "image = products_df.iloc[0]\n",
    "print(image)"
   ]
  },
  {
   "cell_type": "code",
   "execution_count": null,
   "metadata": {
    "ExecuteTime": {
     "end_time": "2023-04-19T16:52:07.514188Z",
     "start_time": "2023-04-19T16:52:07.511956Z"
    }
   },
   "outputs": [],
   "source": [
    "uuid = products_df.iloc[2]['uuid']\n",
    "print(uuid)\n",
    "#api.download(uuid)"
   ]
  },
  {
   "cell_type": "markdown",
   "metadata": {
    "collapsed": false
   },
   "source": [
    "Se descarga un ZIP con los archivos de la imagen. En /S2B_MSIL1C_20230304T105849_N0509_R094_T30TVK_20230304T130129.SAFE/GRANULE/L1C_T30TVK_A031294_20230304T110115/IMG_DATA/ encontramos las imágenes de las diferentes bandas."
   ]
  },
  {
   "cell_type": "code",
   "execution_count": null,
   "metadata": {
    "ExecuteTime": {
     "end_time": "2023-04-19T16:52:07.627666Z",
     "start_time": "2023-04-19T16:52:07.514450Z"
    }
   },
   "outputs": [],
   "source": [
    "import zipfile\n",
    "\n",
    "zip_ref = zipfile.ZipFile('S2B_MSIL1C_20230304T105849_N0509_R094_T30TVK_20230304T130129.zip', 'r')\n",
    "\n",
    "# extract only the band 04\n",
    "zip_ref.extract('S2B_MSIL1C_20230304T105849_N0509_R094_T30TVK_20230304T130129.SAFE/GRANULE/L1C_T30TVK_A031294_20230304T110115/IMG_DATA/T30TVK_20230304T105849_B04.jp2', path='.')"
   ]
  },
  {
   "cell_type": "code",
   "execution_count": null,
   "metadata": {
    "ExecuteTime": {
     "end_time": "2023-04-19T16:52:10.877587Z",
     "start_time": "2023-04-19T16:52:07.629150Z"
    }
   },
   "outputs": [],
   "source": [
    "# convert to tiff\n",
    "import rasterio\n",
    "from rasterio.plot import show\n",
    "\n",
    "image_path = 'S2B_MSIL1C_20230304T105849_N0509_R094_T30TVK_20230304T130129.SAFE/GRANULE/L1C_T30TVK_A031294_20230304T110115/IMG_DATA/T30TVK_20230304T105849_B04.jp2'\n",
    "\n",
    "with rasterio.open(image_path) as src:\n",
    "    show(src)\n",
    "\n"
   ]
  },
  {
   "cell_type": "code",
   "execution_count": null,
   "metadata": {
    "ExecuteTime": {
     "end_time": "2023-04-19T16:52:48.005427Z",
     "start_time": "2023-04-19T16:52:47.965016Z"
    }
   },
   "outputs": [],
   "source": [
    "import fiona\n",
    "import pyproj\n",
    "from shapely.geometry import shape\n",
    "from shapely.ops import transform\n",
    "\n",
    "wgs84 = pyproj.CRS('EPSG:4326')\n",
    "utm = pyproj.CRS('EPSG:32630')\n",
    "\n",
    "project = pyproj.Transformer.from_crs(wgs84, utm, always_xy=True).transform\n",
    "\n",
    "with fiona.open(\"cutter.geojson\", \"r\") as bbox_geojson:\n",
    "    shapes = [transform(project, shape(feature[\"geometry\"])) for feature in bbox_geojson]\n",
    "\n",
    "print(shapes[0].wkt)"
   ]
  },
  {
   "cell_type": "code",
   "execution_count": null,
   "metadata": {
    "ExecuteTime": {
     "end_time": "2023-04-19T16:52:50.581738Z",
     "start_time": "2023-04-19T16:52:50.555976Z"
    }
   },
   "outputs": [],
   "source": [
    "import rasterio\n",
    "\n",
    "\n",
    "NODATA = 0\n",
    "\n",
    "with rasterio.open(image_path) as src:\n",
    "    mask_image, mask_transform = rasterio.mask.mask(src,\n",
    "                                                      shapes,\n",
    "                                                      crop=True,\n",
    "                                                      all_touched=True,\n",
    "                                                      nodata=NODATA)\n",
    "    out_meta = src.meta\n",
    "\n",
    "    out_meta.update({\"driver\": \"GTiff\",\n",
    "                     \"height\": mask_image.shape[1],\n",
    "                     \"width\": mask_image.shape[2],\n",
    "                     \"transform\": mask_transform,\n",
    "                     \"nodata\": NODATA\n",
    "                     })\n",
    "\n",
    "with rasterio.open(f\"{image_path}.cut.tif\", \"w\", **out_meta) as dest:\n",
    "        dest.write(mask_image)"
   ]
  },
  {
   "cell_type": "code",
   "execution_count": null,
   "metadata": {
    "ExecuteTime": {
     "end_time": "2023-04-19T17:03:04.917598Z",
     "start_time": "2023-04-19T17:03:04.874920Z"
    }
   },
   "outputs": [],
   "source": [
    "# open the cut image\n",
    "# house value = 2882\n",
    "import numpy as np\n",
    "with rasterio.open(f\"{image_path}.cut.tif\") as src:\n",
    "\n",
    "    with fiona.open(\"house.geojson\", \"r\") as house_geojson:\n",
    "        house = [transform(project, shape(feature[\"geometry\"])) for feature in house_geojson]\n",
    "\n",
    "        # calculate the row and col of the house\n",
    "        pixel_size = src.res[0]\n",
    "        col = int((house[0].x - src.bounds.left) / pixel_size)\n",
    "        row = int((src.bounds.top - house[0].y) / pixel_size)\n",
    "\n",
    "        b4 = src.read(1)\n",
    "        max = np.amax(b4)\n",
    "        min = np.amin(b4[np.nonzero(b4)])\n",
    "        mean = np.mean(b4[np.nonzero(b4)])\n",
    "        value = b4[row, col]\n",
    "\n",
    "    print(f\"max: {max}, min: {min}, mean: {mean}, value: {value}\")\n"
   ]
  },
  {
   "cell_type": "code",
   "execution_count": null,
   "metadata": {},
   "outputs": [],
   "source": []
  }
 ],
 "metadata": {
  "kernelspec": {
   "display_name": "Python 3",
   "language": "python",
   "name": "python3"
  },
  "language_info": {
   "codemirror_mode": {
    "name": "ipython",
    "version": 2
   },
   "file_extension": ".py",
   "mimetype": "text/x-python",
   "name": "python",
   "nbconvert_exporter": "python",
   "pygments_lexer": "ipython2",
   "version": "2.7.6"
  }
 },
 "nbformat": 4,
 "nbformat_minor": 0
}
