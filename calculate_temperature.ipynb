{
 "cells": [
  {
   "cell_type": "code",
   "execution_count": null,
   "metadata": {
    "ExecuteTime": {
     "end_time": "2023-04-19T17:06:36.799757Z",
     "start_time": "2023-04-19T17:06:36.661278Z"
    }
   },
   "outputs": [],
   "source": [
    "import fiona\n",
    "import pyproj\n",
    "from shapely.geometry import shape\n",
    "from shapely.ops import transform\n",
    "\n",
    "wgs84 = pyproj.CRS('EPSG:4326')\n",
    "utm = pyproj.CRS('EPSG:32630')\n",
    "\n",
    "project = pyproj.Transformer.from_crs(wgs84, utm, always_xy=True).transform\n",
    "\n",
    "with fiona.open(\"cutter.geojson\", \"r\") as bbox_geojson:\n",
    "    shapes = [transform(project, shape(feature[\"geometry\"])) for feature in bbox_geojson]\n",
    "\n",
    "print(shapes[0].wkt)"
   ]
  },
  {
   "cell_type": "code",
   "execution_count": null,
   "metadata": {
    "ExecuteTime": {
     "end_time": "2023-04-19T17:09:28.160846Z",
     "start_time": "2023-04-19T17:09:28.138278Z"
    }
   },
   "outputs": [],
   "source": [
    "import rasterio\n",
    "from rasterio.mask import mask\n",
    "\n",
    "LTS_PATH = \"ECOv002_L2T_LSTE_26947_002_30TVK_20230407T112014_0710_01_LST.tif\"\n",
    "\n",
    "with rasterio.open(LTS_PATH) as src:\n",
    "    mask_image, mask_transform = mask(src,\n",
    "                                      shapes,\n",
    "                                      crop=True,\n",
    "                                      all_touched=True,\n",
    "                                      nodata=src.profile[\"nodata\"],)\n",
    "    out_meta = src.meta\n",
    "\n",
    "    out_meta.update({\"driver\": \"GTiff\",\n",
    "                     \"height\": mask_image.shape[1],\n",
    "                     \"width\": mask_image.shape[2],\n",
    "                     \"transform\": mask_transform,\n",
    "                     \"nodata\": src.profile[\"nodata\"]\n",
    "                     })\n",
    "\n",
    "cutted_path = f\"{LTS_PATH}.cut.tif\"\n",
    "with rasterio.open(cutted_path, \"w\", **out_meta) as dest:\n",
    "        dest.write(mask_image)"
   ]
  },
  {
   "cell_type": "code",
   "execution_count": null,
   "metadata": {
    "ExecuteTime": {
     "end_time": "2023-04-19T17:12:07.101501Z",
     "start_time": "2023-04-19T17:12:07.060269Z"
    }
   },
   "outputs": [],
   "source": [
    "import numpy as np\n",
    "\n",
    "with rasterio.open(cutted_path) as src:\n",
    "\n",
    "    with fiona.open(\"house.geojson\", \"r\") as house_geojson:\n",
    "        house = [transform(project, shape(feature[\"geometry\"])) for feature in house_geojson]\n",
    "\n",
    "        # calculate the row and col of the house\n",
    "        pixel_size = src.res[0]\n",
    "        col = int((house[0].x - src.bounds.left) / pixel_size)\n",
    "        row = int((src.bounds.top - house[0].y) / pixel_size)\n",
    "\n",
    "        lts = src.read(1)\n",
    "        lts[np.isnan(lts)] = 0\n",
    "        max = np.amax(lts)\n",
    "        min = np.amin(lts[np.nonzero(lts)])\n",
    "        mean = np.mean(lts[np.nonzero(lts)])\n",
    "        value = lts[row, col]\n",
    "\n",
    "        to_degrees = lambda kelvin: kelvin - 273.15\n",
    "\n",
    "    print(f\"max: {to_degrees(max)}, min: {to_degrees(min)}, mean: {to_degrees(mean)}, value: {to_degrees(value)}\")"
   ]
  },
  {
   "cell_type": "code",
   "execution_count": null,
   "metadata": {},
   "outputs": [],
   "source": []
  }
 ],
 "metadata": {
  "kernelspec": {
   "display_name": "Python 3",
   "language": "python",
   "name": "python3"
  },
  "language_info": {
   "codemirror_mode": {
    "name": "ipython",
    "version": 2
   },
   "file_extension": ".py",
   "mimetype": "text/x-python",
   "name": "python",
   "nbconvert_exporter": "python",
   "pygments_lexer": "ipython2",
   "version": "2.7.6"
  }
 },
 "nbformat": 4,
 "nbformat_minor": 0
}
