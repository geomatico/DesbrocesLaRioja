{
 "cells": [
  {
   "cell_type": "code",
   "execution_count": null,
   "metadata": {
    "pycharm": {
     "name": "#%%\n"
    }
   },
   "outputs": [],
   "source": [
    "from sentinelsat import SentinelAPI\n",
    "\n",
    "api = SentinelAPI('michogar', 'vayamierdadeclave')"
   ]
  },
  {
   "cell_type": "code",
   "execution_count": null,
   "metadata": {
    "pycharm": {
     "name": "#%%\n"
    }
   },
   "outputs": [],
   "source": [
    "import geopandas as gpd\n",
    "\n",
    "bbox = gpd.read_file('bbox.geojson')\n",
    "\n",
    "bbox.explore()"
   ]
  },
  {
   "cell_type": "code",
   "execution_count": null,
   "metadata": {
    "pycharm": {
     "name": "#%%\n"
    }
   },
   "outputs": [],
   "source": [
    "from sentinelsat import read_geojson, geojson_to_wkt\n",
    "\n",
    "footprint = geojson_to_wkt(read_geojson('bbox.geojson'))\n",
    "\n",
    "products = api.query(footprint,\n",
    "                     date=('20220101', '20220518'),\n",
    "                     platformname='Sentinel-2',\n",
    "                     cloudcoverpercentage=0)\n",
    "\n",
    "products_df = api.to_geodataframe(products)\n",
    "products_df.to_file(\"products.gpkg\", layer='footprints', driver=\"GPKG\")\n",
    "\n",
    "products_df.iloc[0]"
   ]
  },
  {
   "cell_type": "code",
   "execution_count": null,
   "metadata": {
    "pycharm": {
     "name": "#%%\n"
    }
   },
   "outputs": [],
   "source": [
    "uuid = '293dfd0f-b056-447e-8a49-77301ddea3e1'\n",
    "#api.download(uuid)"
   ]
  },
  {
   "cell_type": "code",
   "execution_count": null,
   "metadata": {
    "pycharm": {
     "name": "#%%\n"
    }
   },
   "outputs": [],
   "source": [
    "import rasterio\n",
    "import matplotlib.pyplot as plt\n",
    "import numpy as np\n",
    "\n",
    "# NDVI (Sentinel 2) = (B8 – B4) / (B8 + B4)\n",
    "# B4\t10 m\t665 nm\tRed\n",
    "# B8\t10 m\t842 nm\tVisible and Near Infrared (VNIR)\n",
    "\n",
    "s2s_path = './S2B_MSIL1C_20220318T113319_N0400_R080_T29TNG_20220318T120828.SAFE/GRANULE/L1C_T29TNG_A026275_20220318T113316/IMG_DATA/'\n",
    "\n",
    "base_name = 'T29TNG_20220318T113319'\n",
    "b8 = f'{base_name}_B08.jp2'\n",
    "b4 = f'{base_name}_B04.jp2'\n",
    "\n",
    "b8_path = f'{s2s_path}/{b8}'\n",
    "b4_path = f'{s2s_path}/{b4}'\n",
    "\n",
    "with rasterio.open(b8_path) as src:\n",
    "   oviews = src.overviews(1)\n",
    "   oview = oviews[-1]\n",
    "   thumbnail = src.read(1, out_shape=(1, int(src.height // oview), int(src.width // oview)))\n",
    "   pixel_size = src.transform[0]\n",
    "   print(f'Num of bands: {src.count}')\n",
    "   print(f'Size in Pixels: {src.width} x {src.height} ')\n",
    "   print(f'Pixel: {pixel_size} m')\n",
    "   print(f'Size in Km: {src.width * pixel_size / 1000} x {src.height * pixel_size / 1000} ')\n",
    "   print(f'CRS: {src.crs} ')\n",
    "   print(f'Origin: {src.transform[2]} , {src.transform[5]}')\n",
    "\n",
    "plt.imshow(thumbnail, cmap='gray')\n",
    "plt.colorbar()\n",
    "plt.title('Overview - Band 8 {}'.format(thumbnail.shape))"
   ]
  },
  {
   "cell_type": "code",
   "execution_count": null,
   "metadata": {
    "pycharm": {
     "name": "#%%\n"
    }
   },
   "outputs": [],
   "source": [
    "import fiona\n",
    "import pyproj\n",
    "from shapely.geometry import shape\n",
    "from shapely.ops import transform\n",
    "\n",
    "wgs84 = pyproj.CRS('EPSG:4326')\n",
    "utm = pyproj.CRS('EPSG:32629')\n",
    "\n",
    "project = pyproj.Transformer.from_crs(wgs84, utm, always_xy=True).transform\n",
    "\n",
    "# with fiona.open(\"bbox.geojson\", \"r\") as bbox_geojson:\n",
    "#     shapes = [feature[\"geometry\"] for feature in bbox_geojson]\n",
    "#\n",
    "# print(shapes[0])\n",
    "\n",
    "with fiona.open(\"bbox.geojson\", \"r\") as bbox_geojson:\n",
    "    shapes = [transform(project, shape(feature[\"geometry\"])) for feature in bbox_geojson]\n",
    "\n",
    "print(shapes[0].wkt)"
   ]
  },
  {
   "cell_type": "markdown",
   "metadata": {
    "collapsed": false,
    "pycharm": {
     "name": "#%% md\n"
    }
   },
   "source": [
    "EPSG:4326\n",
    "```\n",
    "{\n",
    "    \"type\": \"Polygon\",\n",
    "  \"coordinates\":\n",
    "    [[(-8.945285297162739, 41.94764885739232),\n",
    "      (-8.945285297162739, 42.34741439813461),\n",
    "      (-8.31885518969755, 42.34741439813461),\n",
    "      (-8.31885518969755, 41.94764885739232),\n",
    "      (-8.945285297162739, 41.94764885739232)]]\n",
    "}\n",
    "```\n",
    "\n",
    "EPSG:32629\n",
    "\n",
    "```\n",
    "POLYGON ((504535.0538171259 4643965.211482396, 504506.610334198 4688351.868811505, 556103.0375257639 4688575.066893593, 556457.1504084462 4644188.093542257, 504535.0538171259 4643965.211482396))\n",
    "```"
   ]
  },
  {
   "cell_type": "code",
   "execution_count": null,
   "metadata": {
    "pycharm": {
     "name": "#%%\n"
    }
   },
   "outputs": [],
   "source": [
    "import rasterio.mask\n",
    "\n",
    "NODATA = 0\n",
    "s2_bands = [\n",
    "    b8_path,\n",
    "    b4_path\n",
    "]\n",
    "\n",
    "for band in s2_bands:\n",
    "    with rasterio.open(band) as src:\n",
    "        mask_image, mask_transform = rasterio.mask.mask(src,\n",
    "                                                      shapes,\n",
    "                                                      crop=True,\n",
    "                                                      all_touched=True,\n",
    "                                                      nodata=NODATA)\n",
    "        out_meta = src.meta\n",
    "\n",
    "    out_meta.update({\"driver\": \"GTiff\",\n",
    "                     \"height\": mask_image.shape[1],\n",
    "                     \"width\": mask_image.shape[2],\n",
    "                     \"transform\": mask_transform,\n",
    "                     \"nodata\": NODATA\n",
    "                     })\n",
    "\n",
    "    with rasterio.open(f\"{band}.masked.tif\", \"w\", **out_meta) as dest:\n",
    "        dest.write(mask_image)"
   ]
  },
  {
   "cell_type": "code",
   "execution_count": null,
   "metadata": {
    "pycharm": {
     "name": "#%%\n"
    }
   },
   "outputs": [],
   "source": [
    "BAND = 1\n",
    "arrs = []\n",
    "\n",
    "for band in s2_bands:\n",
    "    print(f'Reading bands from: {band}.masked.tif')\n",
    "    with rasterio.open(f'{band}.masked.tif') as f:\n",
    "        arrs.append(f.read(BAND))\n",
    "\n",
    "B8 = 0\n",
    "B4 = 1\n",
    "\n",
    "sentinel_b8 = np.array(arrs[B8], dtype=arrs[B8].dtype).astype(float)\n",
    "sentinel_b4 = np.array(arrs[B4], dtype=arrs[B4].dtype).astype(float)\n",
    "\n",
    "print(sentinel_b8.shape)\n",
    "print(sentinel_b8[:100,:100])\n",
    "print(sentinel_b4)"
   ]
  },
  {
   "cell_type": "code",
   "execution_count": null,
   "metadata": {
    "pycharm": {
     "name": "#%%\n"
    }
   },
   "outputs": [],
   "source": [
    "np.seterr(divide='ignore', invalid='ignore')\n",
    "ndvi = (sentinel_b8 - sentinel_b4) / (sentinel_b8 + sentinel_b4)\n",
    "\n",
    "ndvi[np.isnan(ndvi)] = 0\n",
    "\n",
    "print('Max NDVI: {m}'.format(m=ndvi.max()))\n",
    "print('Mean NDVI: {m}'.format(m=ndvi.mean()))\n",
    "print('Median NDVI: {m}'.format(m=np.median(ndvi)))\n",
    "print('Min NDVI: {m}'.format(m=ndvi.min()))\n",
    "\n",
    "plt.imshow(ndvi, cmap='RdYlGn')\n",
    "plt.colorbar()\n",
    "plt.title('NDVI')\n"
   ]
  },
  {
   "cell_type": "code",
   "execution_count": null,
   "metadata": {
    "pycharm": {
     "name": "#%%\n"
    }
   },
   "outputs": [],
   "source": [
    "with rasterio.open(f\"{s2_bands[B8]}.masked.tif\") as src:\n",
    "    profile = src.profile.copy()\n",
    "\n",
    "    profile.update({\n",
    "            'dtype': 'float32',\n",
    "            'height': ndvi.shape[0],\n",
    "            'width': ndvi.shape[1],\n",
    "    })\n",
    "\n",
    "    with rasterio.open('ndvi.tif', 'w', **profile) as dst:\n",
    "        dst.write_band(BAND, ndvi)\n"
   ]
  }
 ],
 "metadata": {
  "kernelspec": {
   "display_name": "Python 3",
   "language": "python",
   "name": "python3"
  },
  "language_info": {
   "codemirror_mode": {
    "name": "ipython",
    "version": 2
   },
   "file_extension": ".py",
   "mimetype": "text/x-python",
   "name": "python",
   "nbconvert_exporter": "python",
   "pygments_lexer": "ipython2",
   "version": "2.7.6"
  }
 },
 "nbformat": 4,
 "nbformat_minor": 0
}
