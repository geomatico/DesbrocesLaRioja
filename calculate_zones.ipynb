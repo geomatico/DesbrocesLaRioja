{
 "cells": [
  {
   "cell_type": "code",
   "execution_count": null,
   "metadata": {
    "ExecuteTime": {
     "end_time": "2023-05-11T16:15:12.125730Z",
     "start_time": "2023-05-11T16:15:12.072579Z"
    }
   },
   "outputs": [],
   "source": [
    "import os\n",
    "import rasterio\n",
    "import numpy as np\n",
    "\n",
    "before = './images/before/bands'\n",
    "after = './images/after/bands'\n",
    "\n",
    "print('STD before')\n",
    "for root, dirs, files in os.walk(before):\n",
    "    for file in files:\n",
    "        if file.endswith('.tif'):\n",
    "            with rasterio.open(os.path.join(root, file)) as image_before:\n",
    "                ndvi = np.array(image_before.read(1), dtype=image_before.read(1).dtype).astype(float)\n",
    "                print(f'{file} Median NDVI: {np.std(ndvi)}')\n",
    "\n",
    "\n",
    "print('STD after')\n",
    "for root, dirs, files in os.walk(after):\n",
    "    for file in files:\n",
    "        if file.endswith('.tif'):\n",
    "            with rasterio.open(os.path.join(root, file)) as image_before:\n",
    "                ndvi = np.array(image_before.read(1), dtype=image_before.read(1).dtype).astype(float)\n",
    "                print(f'{file} Median NDVI: {np.std(ndvi)}')\n",
    "\n"
   ]
  },
  {
   "cell_type": "code",
   "execution_count": null,
   "metadata": {
    "ExecuteTime": {
     "end_time": "2023-05-11T17:05:45.523046Z",
     "start_time": "2023-05-11T17:05:45.268559Z"
    }
   },
   "outputs": [],
   "source": [
    "\n",
    "import matplotlib.pyplot as plt\n",
    "\n",
    "best_before = 'T30TWM_20220501T110619_NDVI.jp2.tif'\n",
    "best_after = 'T30TWM_20220819T110619_NDVI.jp2.tif'\n",
    "\n",
    "with rasterio.open(os.path.join(before, best_before)) as image_before:\n",
    "    ndvi_before = np.array(image_before.read(1), dtype=image_before.read(1).dtype).astype(float)\n",
    "    print(f'{best_before} Median NDVI: {np.std(ndvi)}')\n",
    "\n",
    "    with rasterio.open(os.path.join(after, best_after)) as image_after:\n",
    "        ndvi_after = np.array(image_after.read(1), dtype=image_before.read(1).dtype).astype(float)\n",
    "        print(f'{best_after} Median NDVI: {np.std(ndvi)}')\n",
    "\n",
    "    ndvi_diff = ndvi_after - ndvi_before\n",
    "\n",
    "    ndvi_diff_profile = image_before.profile.copy()\n",
    "\n",
    "    print(ndvi_diff.shape)\n",
    "    ndvi_diff_profile.update({\n",
    "        'dtype': 'float32',\n",
    "        'nodata': 0,\n",
    "        'height': ndvi_diff.shape[0],\n",
    "        'width': ndvi_diff.shape[1],\n",
    "    })\n",
    "\n",
    "    with rasterio.open('ndvi_diff.tif', 'w', **ndvi_diff_profile) as dst:\n",
    "        dst.write(ndvi_diff, 1)\n",
    "\n",
    "    ndvi_diff[ndvi_diff>-0.1] = 1\n",
    "    ndvi_diff[ndvi_diff<-0.1] = 0\n",
    "\n",
    "    with rasterio.open('ndvi_diff_masked.tif', 'w', **ndvi_diff_profile) as dst:\n",
    "        dst.write(ndvi_diff, 1)\n",
    "\n",
    "    plt.imshow(ndvi_diff, cmap='RdYlGn')\n",
    "    plt.colorbar()\n",
    "    plt.title('Overview - Band 8 {}'.format(ndvi_diff.shape))\n"
   ]
  },
  {
   "cell_type": "code",
   "execution_count": null,
   "metadata": {
    "ExecuteTime": {
     "end_time": "2023-05-11T17:07:23.299138Z",
     "start_time": "2023-05-11T17:07:23.205321Z"
    }
   },
   "outputs": [],
   "source": [
    "from rasterio.features import shapes\n",
    "from shapely.geometry import shape\n",
    "\n",
    "from geopandas import GeoDataFrame\n",
    "\n",
    "with rasterio.open('ndvi_diff_masked.tif') as src:\n",
    "    data = src.read(1, masked=False)\n",
    "\n",
    "    # Use a generator instead of a list\n",
    "    shape_gen = ((shape(s), v) for s, v in shapes(data, transform=src.transform))\n",
    "\n",
    "    # build a dict from unpacked shapes\n",
    "    gdf = GeoDataFrame(dict(zip([\"geometry\", \"class\"], zip(*shape_gen))), crs=src.crs)\n",
    "    gdf.to_file('./vectorized.gpkg', driver=\"GPKG\")"
   ]
  }
 ],
 "metadata": {
  "kernelspec": {
   "display_name": "Python 3",
   "language": "python",
   "name": "python3"
  },
  "language_info": {
   "codemirror_mode": {
    "name": "ipython",
    "version": 2
   },
   "file_extension": ".py",
   "mimetype": "text/x-python",
   "name": "python",
   "nbconvert_exporter": "python",
   "pygments_lexer": "ipython2",
   "version": "2.7.6"
  }
 },
 "nbformat": 4,
 "nbformat_minor": 0
}
