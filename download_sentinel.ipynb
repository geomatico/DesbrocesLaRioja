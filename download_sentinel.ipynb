{
 "cells": [
  {
   "cell_type": "code",
   "execution_count": 1,
   "metadata": {
    "ExecuteTime": {
     "end_time": "2023-04-19T16:52:06.773753Z",
     "start_time": "2023-04-19T16:52:06.653163Z"
    }
   },
   "outputs": [],
   "source": [
    "import numpy as np\n",
    "from sentinelsat import SentinelAPI\n",
    "\n",
    "api = SentinelAPI('michogar', 'tvsptqzKuUULb87L')"
   ]
  },
  {
   "cell_type": "markdown",
   "metadata": {
    "collapsed": false
   },
   "source": [
    "## POLYGON used to query the API\n",
    "<geographic type> = POLYGON((P1Lon P1Lat, P2Lon P2Lat, ..., PnLon PnLat))\n",
    "where P1Lon and P1Lat are the Longitude and Latitude coordinates of the first point of the polygon in decimal degrees (DDD) format (e.g. 2.17403, 41.40338) and so on."
   ]
  },
  {
   "cell_type": "code",
   "execution_count": 2,
   "metadata": {
    "ExecuteTime": {
     "end_time": "2023-04-19T16:52:07.510827Z",
     "start_time": "2023-04-19T16:52:06.777458Z"
    }
   },
   "outputs": [
    {
     "name": "stdout",
     "output_type": "stream",
     "text": [
      "                                                                                  title   \n",
      "ed726079-4f9a-4f97-940a-f2eb1b3d1d7f  S2A_MSIL1C_20220406T110621_N0400_R137_T30TWM_2...  \\\n",
      "\n",
      "                                                                                   link   \n",
      "ed726079-4f9a-4f97-940a-f2eb1b3d1d7f  https://apihub.copernicus.eu/apihub/odata/v1/P...  \\\n",
      "\n",
      "                                                                       link_alternative   \n",
      "ed726079-4f9a-4f97-940a-f2eb1b3d1d7f  https://apihub.copernicus.eu/apihub/odata/v1/P...  \\\n",
      "\n",
      "                                                                              link_icon   \n",
      "ed726079-4f9a-4f97-940a-f2eb1b3d1d7f  https://apihub.copernicus.eu/apihub/odata/v1/P...  \\\n",
      "\n",
      "                                                                                summary   \n",
      "ed726079-4f9a-4f97-940a-f2eb1b3d1d7f  Date: 2022-04-06T11:06:21.024Z, Instrument: MS...  \\\n",
      "\n",
      "                                     ondemand    datatakesensingstart   \n",
      "ed726079-4f9a-4f97-940a-f2eb1b3d1d7f    false 2022-04-06 11:06:21.024  \\\n",
      "\n",
      "                                          generationdate   \n",
      "ed726079-4f9a-4f97-940a-f2eb1b3d1d7f 2022-04-06 15:27:41  \\\n",
      "\n",
      "                                               beginposition   \n",
      "ed726079-4f9a-4f97-940a-f2eb1b3d1d7f 2022-04-06 11:06:21.024  \\\n",
      "\n",
      "                                                 endposition  ... producttype   \n",
      "ed726079-4f9a-4f97-940a-f2eb1b3d1d7f 2022-04-06 11:06:21.024  ...     S2MSI1C  \\\n",
      "\n",
      "                                      platformidentifier  orbitdirection   \n",
      "ed726079-4f9a-4f97-940a-f2eb1b3d1d7f           2015-028A      DESCENDING  \\\n",
      "\n",
      "                                      platformserialidentifier   \n",
      "ed726079-4f9a-4f97-940a-f2eb1b3d1d7f               Sentinel-2A  \\\n",
      "\n",
      "                                     processinglevel   \n",
      "ed726079-4f9a-4f97-940a-f2eb1b3d1d7f        Level-1C  \\\n",
      "\n",
      "                                                                    datastripidentifier   \n",
      "ed726079-4f9a-4f97-940a-f2eb1b3d1d7f  S2A_OPER_MSI_L1C_DS_VGS2_20220406T152741_S2022...  \\\n",
      "\n",
      "                                                                      granuleidentifier   \n",
      "ed726079-4f9a-4f97-940a-f2eb1b3d1d7f  S2A_OPER_MSI_L1C_TL_VGS2_20220406T152741_A0354...  \\\n",
      "\n",
      "                                                                             identifier   \n",
      "ed726079-4f9a-4f97-940a-f2eb1b3d1d7f  S2A_MSIL1C_20220406T110621_N0400_R137_T30TWM_2...  \\\n",
      "\n",
      "                                                                      uuid   \n",
      "ed726079-4f9a-4f97-940a-f2eb1b3d1d7f  ed726079-4f9a-4f97-940a-f2eb1b3d1d7f  \\\n",
      "\n",
      "                                                                               geometry  \n",
      "ed726079-4f9a-4f97-940a-f2eb1b3d1d7f  MULTIPOLYGON (((-2.99384 41.46372, -2.95660 41...  \n",
      "\n",
      "[1 rows x 36 columns]\n",
      "                                                                                  title   \n",
      "ed726079-4f9a-4f97-940a-f2eb1b3d1d7f  S2A_MSIL1C_20220406T110621_N0400_R137_T30TWM_2...  \\\n",
      "\n",
      "                                                                                   link   \n",
      "ed726079-4f9a-4f97-940a-f2eb1b3d1d7f  https://apihub.copernicus.eu/apihub/odata/v1/P...  \\\n",
      "\n",
      "                                                                       link_alternative   \n",
      "ed726079-4f9a-4f97-940a-f2eb1b3d1d7f  https://apihub.copernicus.eu/apihub/odata/v1/P...  \\\n",
      "\n",
      "                                                                              link_icon   \n",
      "ed726079-4f9a-4f97-940a-f2eb1b3d1d7f  https://apihub.copernicus.eu/apihub/odata/v1/P...  \\\n",
      "\n",
      "                                                                                summary   \n",
      "ed726079-4f9a-4f97-940a-f2eb1b3d1d7f  Date: 2022-04-06T11:06:21.024Z, Instrument: MS...  \\\n",
      "\n",
      "                                     ondemand    datatakesensingstart   \n",
      "ed726079-4f9a-4f97-940a-f2eb1b3d1d7f    false 2022-04-06 11:06:21.024  \\\n",
      "\n",
      "                                          generationdate   \n",
      "ed726079-4f9a-4f97-940a-f2eb1b3d1d7f 2022-04-06 15:27:41  \\\n",
      "\n",
      "                                               beginposition   \n",
      "ed726079-4f9a-4f97-940a-f2eb1b3d1d7f 2022-04-06 11:06:21.024  \\\n",
      "\n",
      "                                                 endposition  ... producttype   \n",
      "ed726079-4f9a-4f97-940a-f2eb1b3d1d7f 2022-04-06 11:06:21.024  ...     S2MSI1C  \\\n",
      "\n",
      "                                      platformidentifier  orbitdirection   \n",
      "ed726079-4f9a-4f97-940a-f2eb1b3d1d7f           2015-028A      DESCENDING  \\\n",
      "\n",
      "                                      platformserialidentifier   \n",
      "ed726079-4f9a-4f97-940a-f2eb1b3d1d7f               Sentinel-2A  \\\n",
      "\n",
      "                                     processinglevel   \n",
      "ed726079-4f9a-4f97-940a-f2eb1b3d1d7f        Level-1C  \\\n",
      "\n",
      "                                                                    datastripidentifier   \n",
      "ed726079-4f9a-4f97-940a-f2eb1b3d1d7f  S2A_OPER_MSI_L1C_DS_VGS2_20220406T152741_S2022...  \\\n",
      "\n",
      "                                                                      granuleidentifier   \n",
      "ed726079-4f9a-4f97-940a-f2eb1b3d1d7f  S2A_OPER_MSI_L1C_TL_VGS2_20220406T152741_A0354...  \\\n",
      "\n",
      "                                                                             identifier   \n",
      "ed726079-4f9a-4f97-940a-f2eb1b3d1d7f  S2A_MSIL1C_20220406T110621_N0400_R137_T30TWM_2...  \\\n",
      "\n",
      "                                                                      uuid   \n",
      "ed726079-4f9a-4f97-940a-f2eb1b3d1d7f  ed726079-4f9a-4f97-940a-f2eb1b3d1d7f  \\\n",
      "\n",
      "                                                                               geometry  \n",
      "ed726079-4f9a-4f97-940a-f2eb1b3d1d7f  MULTIPOLYGON (((-2.99384 41.46372, -2.95660 41...  \n",
      "\n",
      "[1 rows x 36 columns]\n"
     ]
    }
   ],
   "source": [
    "from sentinelsat import read_geojson, geojson_to_wkt\n",
    "\n",
    "footprint = geojson_to_wkt(read_geojson('larioja/bloque1_extension.geojson'))\n",
    "\n",
    "products = api.query(footprint,\n",
    "                     date=('20220323', '20220523'),\n",
    "                     platformname='Sentinel-2',\n",
    "                     cloudcoverpercentage=0)\n",
    "\n",
    "products_df = api.to_geodataframe(products)\n",
    "products_df.to_file(\"products.gpkg\", layer='footprints', driver=\"GPKG\")\n",
    "print(products_df)\n",
    "image_start = products_df.iloc[-1]\n",
    "\n",
    "products = api.query(footprint,\n",
    "                     date=('20220731', '20220831'),\n",
    "                     platformname='Sentinel-2',\n",
    "                     cloudcoverpercentage=0)\n",
    "image_end = products_df.iloc[-1]\n",
    "print(products_df)"
   ]
  },
  {
   "cell_type": "code",
   "execution_count": 4,
   "metadata": {
    "ExecuteTime": {
     "end_time": "2023-04-19T16:52:07.514188Z",
     "start_time": "2023-04-19T16:52:07.511956Z"
    }
   },
   "outputs": [
    {
     "data": {
      "text/plain": "MD5 checksumming:   0%|          | 0.00/151M [00:00<?, ?B/s]",
      "application/vnd.jupyter.widget-view+json": {
       "version_major": 2,
       "version_minor": 0,
       "model_id": "f9a9cf24805b48279ee1a82a875e52fe"
      }
     },
     "metadata": {},
     "output_type": "display_data"
    },
    {
     "data": {
      "text/plain": "{'id': 'ed726079-4f9a-4f97-940a-f2eb1b3d1d7f',\n 'title': 'S2A_MSIL1C_20220406T110621_N0400_R137_T30TWM_20220406T152741',\n 'size': 150692957,\n 'md5': '5002fd3d72a57d91c4620fd72aebaefa',\n 'date': datetime.datetime(2022, 4, 6, 11, 6, 21, 24000),\n 'footprint': 'POLYGON((-2.6233215 42.45049660369834,-2.6275635 42.43924156075016,-2.6834412 42.29365390456558,-2.739746 42.14817535071566,-2.7939758 42.00210031955532,-2.848236 41.85599444483344,-2.9025269 41.709823560209294,-2.956604 41.563588317616365,-2.9938354 41.46371529016238,-3.0002441 41.463751887157464,-3.0002441 42.45269119915018,-2.6233215 42.45049660369834))',\n 'url': \"https://apihub.copernicus.eu/apihub/odata/v1/Products('ed726079-4f9a-4f97-940a-f2eb1b3d1d7f')/$value\",\n 'Online': True,\n 'Creation Date': datetime.datetime(2022, 4, 6, 18, 13, 2, 52000),\n 'Ingestion Date': datetime.datetime(2022, 4, 6, 18, 12, 20, 741000),\n 'manifest_name': 'manifest.safe',\n 'product_root_dir': 'S2A_MSIL1C_20220406T110621_N0400_R137_T30TWM_20220406T152741.SAFE',\n 'quicklook_url': \"https://apihub.copernicus.eu/apihub/odata/v1/Products('ed726079-4f9a-4f97-940a-f2eb1b3d1d7f')/Products('Quicklook')/$value\",\n 'path': 'S2A_MSIL1C_20220406T110621_N0400_R137_T30TWM_20220406T152741.zip',\n 'downloaded_bytes': 150692957}"
     },
     "execution_count": 3,
     "metadata": {},
     "output_type": "execute_result"
    },
    {
     "name": "stdout",
     "output_type": "stream",
     "text": [
      "ed726079-4f9a-4f97-940a-f2eb1b3d1d7f\n"
     ]
    },
    {
     "data": {
      "text/plain": "{'id': 'ed726079-4f9a-4f97-940a-f2eb1b3d1d7f',\n 'title': 'S2A_MSIL1C_20220406T110621_N0400_R137_T30TWM_20220406T152741',\n 'size': 150692957,\n 'md5': '5002fd3d72a57d91c4620fd72aebaefa',\n 'date': datetime.datetime(2022, 4, 6, 11, 6, 21, 24000),\n 'footprint': 'POLYGON((-2.6233215 42.45049660369834,-2.6275635 42.43924156075016,-2.6834412 42.29365390456558,-2.739746 42.14817535071566,-2.7939758 42.00210031955532,-2.848236 41.85599444483344,-2.9025269 41.709823560209294,-2.956604 41.563588317616365,-2.9938354 41.46371529016238,-3.0002441 41.463751887157464,-3.0002441 42.45269119915018,-2.6233215 42.45049660369834))',\n 'url': \"https://apihub.copernicus.eu/apihub/odata/v1/Products('ed726079-4f9a-4f97-940a-f2eb1b3d1d7f')/$value\",\n 'Online': True,\n 'Creation Date': datetime.datetime(2022, 4, 6, 18, 13, 2, 52000),\n 'Ingestion Date': datetime.datetime(2022, 4, 6, 18, 12, 20, 741000),\n 'manifest_name': 'manifest.safe',\n 'product_root_dir': 'S2A_MSIL1C_20220406T110621_N0400_R137_T30TWM_20220406T152741.SAFE',\n 'quicklook_url': \"https://apihub.copernicus.eu/apihub/odata/v1/Products('ed726079-4f9a-4f97-940a-f2eb1b3d1d7f')/Products('Quicklook')/$value\",\n 'path': 'S2A_MSIL1C_20220406T110621_N0400_R137_T30TWM_20220406T152741.zip',\n 'downloaded_bytes': 0}"
     },
     "execution_count": 4,
     "metadata": {},
     "output_type": "execute_result"
    }
   ],
   "source": [
    "uuid = image_start['uuid']\n",
    "print(uuid)\n",
    "api.download(uuid)"
   ]
  },
  {
   "cell_type": "markdown",
   "metadata": {
    "collapsed": false
   },
   "source": [
    "Se descarga un ZIP con los archivos de la imagen. En /S2B_MSIL1C_20230304T105849_N0509_R094_T30TVK_20230304T130129.SAFE/GRANULE/L1C_T30TVK_A031294_20230304T110115/IMG_DATA/ encontramos las imágenes de las diferentes bandas."
   ]
  },
  {
   "cell_type": "code",
   "execution_count": 7,
   "metadata": {
    "ExecuteTime": {
     "end_time": "2023-04-19T16:52:07.627666Z",
     "start_time": "2023-04-19T16:52:07.514450Z"
    }
   },
   "outputs": [
    {
     "data": {
      "text/plain": "'S2A_MSIL1C_20220406T110621_N0400_R137_T30TWM_20220406T152741.SAFE/GRANULE/L1C_T30TWM_A035455_20220406T111327/IMG_DATA/T30TWM_20220406T110621_B04.jp2'"
     },
     "execution_count": 7,
     "metadata": {},
     "output_type": "execute_result"
    }
   ],
   "source": [
    "import zipfile\n",
    "\n",
    "zip_ref = zipfile.ZipFile('S2A_MSIL1C_20220406T110621_N0400_R137_T30TWM_20220406T152741.zip', 'r')\n",
    "\n",
    "# extract only the band 04\n",
    "zip_ref.extract('S2A_MSIL1C_20220406T110621_N0400_R137_T30TWM_20220406T152741.SAFE/GRANULE/L1C_T30TWM_A035455_20220406T111327/IMG_DATA/T30TWM_20220406T110621_B04.jp2', path='.')"
   ]
  },
  {
   "cell_type": "code",
   "execution_count": 8,
   "metadata": {
    "ExecuteTime": {
     "end_time": "2023-04-19T16:52:10.877587Z",
     "start_time": "2023-04-19T16:52:07.629150Z"
    }
   },
   "outputs": [
    {
     "data": {
      "text/plain": "<Figure size 640x480 with 1 Axes>",
      "image/png": "[encoded data removed]"
     },
     "metadata": {},
     "output_type": "display_data"
    }
   ],
   "source": [
    "# convert to tiff\n",
    "import rasterio\n",
    "from rasterio.plot import show\n",
    "\n",
    "image_path = 'S2A_MSIL1C_20220406T110621_N0400_R137_T30TWM_20220406T152741.SAFE/GRANULE/L1C_T30TWM_A035455_20220406T111327/IMG_DATA/T30TWM_20220406T110621_B04.jp2'\n",
    "\n",
    "with rasterio.open(image_path) as src:\n",
    "    show(src)\n",
    "\n"
   ]
  },
  {
   "cell_type": "code",
   "execution_count": null,
   "metadata": {
    "ExecuteTime": {
     "end_time": "2023-04-19T16:52:48.005427Z",
     "start_time": "2023-04-19T16:52:47.965016Z"
    }
   },
   "outputs": [],
   "source": [
    "import fiona\n",
    "import pyproj\n",
    "from shapely.geometry import shape\n",
    "from shapely.ops import transform\n",
    "\n",
    "wgs84 = pyproj.CRS('EPSG:4326')\n",
    "utm = pyproj.CRS('EPSG:32630')\n",
    "\n",
    "project = pyproj.Transformer.from_crs(wgs84, utm, always_xy=True).transform\n",
    "\n",
    "with fiona.open(\"cutter.geojson\", \"r\") as bbox_geojson:\n",
    "    shapes = [transform(project, shape(feature[\"geometry\"])) for feature in bbox_geojson]\n",
    "\n",
    "print(shapes[0].wkt)"
   ]
  },
  {
   "cell_type": "code",
   "execution_count": null,
   "metadata": {
    "ExecuteTime": {
     "end_time": "2023-04-19T16:52:50.581738Z",
     "start_time": "2023-04-19T16:52:50.555976Z"
    }
   },
   "outputs": [],
   "source": [
    "import rasterio\n",
    "\n",
    "\n",
    "NODATA = 0\n",
    "\n",
    "with rasterio.open(image_path) as src:\n",
    "    mask_image, mask_transform = rasterio.mask.mask(src,\n",
    "                                                      shapes,\n",
    "                                                      crop=True,\n",
    "                                                      all_touched=True,\n",
    "                                                      nodata=NODATA)\n",
    "    out_meta = src.meta\n",
    "\n",
    "    out_meta.update({\"driver\": \"GTiff\",\n",
    "                     \"height\": mask_image.shape[1],\n",
    "                     \"width\": mask_image.shape[2],\n",
    "                     \"transform\": mask_transform,\n",
    "                     \"nodata\": NODATA\n",
    "                     })\n",
    "\n",
    "with rasterio.open(f\"{image_path}.cut.tif\", \"w\", **out_meta) as dest:\n",
    "        dest.write(mask_image)"
   ]
  },
  {
   "cell_type": "code",
   "execution_count": null,
   "metadata": {
    "ExecuteTime": {
     "end_time": "2023-04-19T17:03:04.917598Z",
     "start_time": "2023-04-19T17:03:04.874920Z"
    }
   },
   "outputs": [],
   "source": [
    "# open the cut image\n",
    "# house value = 2882\n",
    "import numpy as np\n",
    "with rasterio.open(f\"{image_path}.cut.tif\") as src:\n",
    "\n",
    "    with fiona.open(\"house.geojson\", \"r\") as house_geojson:\n",
    "        house = [transform(project, shape(feature[\"geometry\"])) for feature in house_geojson]\n",
    "\n",
    "        # calculate the row and col of the house\n",
    "        pixel_size = src.res[0]\n",
    "        col = int((house[0].x - src.bounds.left) / pixel_size)\n",
    "        row = int((src.bounds.top - house[0].y) / pixel_size)\n",
    "\n",
    "        b4 = src.read(1)\n",
    "        max = np.amax(b4)\n",
    "        min = np.amin(b4[np.nonzero(b4)])\n",
    "        mean = np.mean(b4[np.nonzero(b4)])\n",
    "        value = b4[row, col]\n",
    "\n",
    "    print(f\"max: {max}, min: {min}, mean: {mean}, value: {value}\")\n"
   ]
  },
  {
   "cell_type": "code",
   "execution_count": null,
   "metadata": {},
   "outputs": [],
   "source": []
  }
 ],
 "metadata": {
  "kernelspec": {
   "display_name": "Python 3",
   "language": "python",
   "name": "python3"
  },
  "language_info": {
   "codemirror_mode": {
    "name": "ipython",
    "version": 2
   },
   "file_extension": ".py",
   "mimetype": "text/x-python",
   "name": "python",
   "nbconvert_exporter": "python",
   "pygments_lexer": "ipython2",
   "version": "2.7.6"
  }
 },
 "nbformat": 4,
 "nbformat_minor": 0
}